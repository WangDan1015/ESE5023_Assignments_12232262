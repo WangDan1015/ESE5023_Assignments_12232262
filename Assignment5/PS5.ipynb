{
 "cells": [
  {
   "cell_type": "code",
   "execution_count": 85,
   "id": "bc71569f",
   "metadata": {},
   "outputs": [],
   "source": [
    "import numpy as np\n",
    "import pandas as pd\n",
    "import scipy\n",
    "import matplotlib.pyplot as plt\n",
    "from scipy.integrate import odeint\n",
    "from scipy.interpolate import UnivariateSpline"
   ]
  },
  {
   "cell_type": "code",
   "execution_count": 180,
   "id": "a9b386e5",
   "metadata": {
    "scrolled": true
   },
   "outputs": [
    {
     "data": {
      "text/html": [
       "<div>\n",
       "<style scoped>\n",
       "    .dataframe tbody tr th:only-of-type {\n",
       "        vertical-align: middle;\n",
       "    }\n",
       "\n",
       "    .dataframe tbody tr th {\n",
       "        vertical-align: top;\n",
       "    }\n",
       "\n",
       "    .dataframe thead th {\n",
       "        text-align: right;\n",
       "    }\n",
       "</style>\n",
       "<table border=\"1\" class=\"dataframe\">\n",
       "  <thead>\n",
       "    <tr style=\"text-align: right;\">\n",
       "      <th></th>\n",
       "      <th>year</th>\n",
       "      <th>mean</th>\n",
       "      <th>unc</th>\n",
       "    </tr>\n",
       "  </thead>\n",
       "  <tbody>\n",
       "    <tr>\n",
       "      <th>27</th>\n",
       "      <td>1986</td>\n",
       "      <td>347.61</td>\n",
       "      <td>0.12</td>\n",
       "    </tr>\n",
       "    <tr>\n",
       "      <th>28</th>\n",
       "      <td>1987</td>\n",
       "      <td>349.31</td>\n",
       "      <td>0.12</td>\n",
       "    </tr>\n",
       "    <tr>\n",
       "      <th>29</th>\n",
       "      <td>1988</td>\n",
       "      <td>351.69</td>\n",
       "      <td>0.12</td>\n",
       "    </tr>\n",
       "    <tr>\n",
       "      <th>30</th>\n",
       "      <td>1989</td>\n",
       "      <td>353.20</td>\n",
       "      <td>0.12</td>\n",
       "    </tr>\n",
       "    <tr>\n",
       "      <th>31</th>\n",
       "      <td>1990</td>\n",
       "      <td>354.45</td>\n",
       "      <td>0.12</td>\n",
       "    </tr>\n",
       "  </tbody>\n",
       "</table>\n",
       "</div>"
      ],
      "text/plain": [
       "    year    mean   unc\n",
       "27  1986  347.61  0.12\n",
       "28  1987  349.31  0.12\n",
       "29  1988  351.69  0.12\n",
       "30  1989  353.20  0.12\n",
       "31  1990  354.45  0.12"
      ]
     },
     "execution_count": 180,
     "metadata": {},
     "output_type": "execute_result"
    }
   ],
   "source": [
    "# 1986-2004年的化石燃料排放CO2\n",
    "year = np.linspace(1987,2004,18)\n",
    "gamma1987_2004 = [5755,5968,6088,6151,6239,6178,6172,6284,6422,6550,6663,6638,6584,6750,6916,6981,7397,7782]\n",
    "gamma1 = []\n",
    "\n",
    "# 将化石燃料转化为PgC单位\n",
    "for i in gamma1987_2004:\n",
    "    j = i/1000\n",
    "    gamma1.append(j)\n",
    "# print(gamma1)\n",
    "\n",
    "# 运用样条插值，确保gamma能够连续取值\n",
    "gamma2 = UnivariateSpline(year, gamma1)\n",
    "gamma2.set_smoothing_factor(0.5)\n",
    "# print(gamma2(2000))\n",
    "\n",
    "# 读取观测值数据集，跳过注释部分，取1986-2004内的数据\n",
    "observation = pd.read_csv(\"co2_annmean_mlo.csv\" , skiprows = 55)\n",
    "observation1986_2004 = observation.loc[ (observation['year'] >1985) & (observation['year'] <2005) ]\n",
    "observation1986_2004.head()"
   ]
  },
  {
   "cell_type": "markdown",
   "id": "77271795",
   "metadata": {},
   "source": [
    "# 1.1 Caculation without buffer efffect"
   ]
  },
  {
   "cell_type": "code",
   "execution_count": 181,
   "id": "d8405240",
   "metadata": {},
   "outputs": [
    {
     "name": "stdout",
     "output_type": "stream",
     "text": [
      "[347.41784038 348.74561854 350.10879164 351.49253483 352.88637601\n",
      " 354.28350841 355.68019984 357.07539017 358.47033775 359.86836229\n",
      " 361.27464319 362.69606337 364.14108621 365.61966444 367.14316646\n",
      " 368.72431922 370.3771653  372.11702912]\n"
     ]
    }
   ],
   "source": [
    "def fun1(y,t):\n",
    "    y1 = y[0]\n",
    "    y2 = y[1]\n",
    "    k12=105/740\n",
    "    k21=102/900\n",
    "    gamma=gamma2(t)\n",
    "    dydt = [-k12*y1+k21*y2+gamma, k12*y1-k21*y2]\n",
    "    return dydt\n",
    "\n",
    "# 初始条件\n",
    "y0 = [740,900]\n",
    "t = np.linspace(1987,2004,18)\n",
    "# print(t)\n",
    "\n",
    "# 求解\n",
    "Solution1 = odeint(fun1,y0,t)[:, 0]/2.13\n",
    "print(Solution1)"
   ]
  },
  {
   "cell_type": "markdown",
   "id": "3c4e8ace",
   "metadata": {},
   "source": [
    "# 1.2 Caculation with buffer efffect"
   ]
  },
  {
   "cell_type": "code",
   "execution_count": 182,
   "id": "9f0de7e4",
   "metadata": {},
   "outputs": [
    {
     "name": "stdout",
     "output_type": "stream",
     "text": [
      "[384.50704225 386.36989916 388.76039838 391.31561695 393.93541573\n",
      " 396.58882399 399.2643802  401.95739333 404.66668137 407.39372071\n",
      " 410.14243515 412.9191631  415.73260831 418.59386013 421.51638127\n",
      " 424.51601516 427.61097888 430.82186945]\n"
     ]
    }
   ],
   "source": [
    "def fun2(y,t):\n",
    "    y1 = y[0]\n",
    "    y2 = y[1]\n",
    "    k12=105/(740+79)\n",
    "    k21=102/(900-79)\n",
    "    N20=821\n",
    "    Xi=9.92#根据公式求得\n",
    "    gamma=gamma2(t)\n",
    "    dydt = [-k12*y1+k21*(N20+Xi*(y2-N20))+gamma, k12*y1-k21*(N20+Xi*(y2-N20))]\n",
    "    return dydt\n",
    "\n",
    "# 初始条件\n",
    "yy = [740+79,900-79]\n",
    "tt = np.linspace(1987,2004,18)\n",
    "\n",
    "# 求解\n",
    "Solution2 = odeint(fun2,yy,tt)[:, 0]/2.13\n",
    "print(Solution2)"
   ]
  },
  {
   "cell_type": "markdown",
   "id": "e679d7ed",
   "metadata": {},
   "source": [
    "# 1.3 reproduce Figure 2"
   ]
  },
  {
   "cell_type": "code",
   "execution_count": 183,
   "id": "c6579efd",
   "metadata": {},
   "outputs": [
    {
     "data": {
      "image/png": "[encoded data removed]",
      "text/plain": [
       "<Figure size 600x400 with 1 Axes>"
      ]
     },
     "metadata": {
      "needs_background": "light"
     },
     "output_type": "display_data"
    }
   ],
   "source": [
    "fig, ax = plt.subplots(figsize=(6,4),dpi=100)\n",
    "ax.spines['right'].set_visible(False)                 #去除上右边框\n",
    "ax.spines['top'].set_visible(False)\n",
    "plt.rc('font',family='Times New Roman')               #设置字体\n",
    "plt.rcParams['xtick.direction'] = 'in'                #将坐标轴的刻度线方向设置向内\n",
    "plt.rcParams['ytick.direction'] = 'in'\n",
    "ax.xaxis.set_major_locator(plt.MultipleLocator(5))    #设置坐标轴主次刻度\n",
    "ax.xaxis.set_minor_locator(plt.MultipleLocator(1))\n",
    "ax.yaxis.set_major_locator(plt.MultipleLocator(20))\n",
    "ax.yaxis.set_minor_locator(plt.MultipleLocator(5))\n",
    "\n",
    "plt.plot(t,Solution1, c='gray', label='caculation without buffer effect')\n",
    "plt.plot(t,Solution2, c='k')\n",
    "plt.scatter(observation1986_2004['year'],observation1986_2004['mean'],s=10,c='gray',marker='o')\n",
    "plt.xlabel(\"Year\")\n",
    "plt.ylabel(\"CO2 Concentration (ppm)\")\n",
    "# plt.legend()\n",
    "plt.show()"
   ]
  },
  {
   "cell_type": "markdown",
   "id": "4804e39a",
   "metadata": {},
   "source": [
    "# 1.4 reproduce Figure 4"
   ]
  },
  {
   "cell_type": "code",
   "execution_count": 202,
   "id": "1f7baba9",
   "metadata": {},
   "outputs": [
    {
     "ename": "TypeError",
     "evalue": "cannot unpack non-iterable numpy.float64 object",
     "output_type": "error",
     "traceback": [
      "\u001b[1;31m---------------------------------------------------------------------------\u001b[0m",
      "\u001b[1;31mTypeError\u001b[0m                                 Traceback (most recent call last)",
      "Input \u001b[1;32mIn [202]\u001b[0m, in \u001b[0;36m<cell line: 36>\u001b[1;34m()\u001b[0m\n\u001b[0;32m     33\u001b[0m ttt \u001b[38;5;241m=\u001b[39m np\u001b[38;5;241m.\u001b[39mlinspace(\u001b[38;5;241m1750\u001b[39m,\u001b[38;5;241m2000\u001b[39m,\u001b[38;5;241m251\u001b[39m)\n\u001b[0;32m     35\u001b[0m \u001b[38;5;66;03m# 求解\u001b[39;00m\n\u001b[1;32m---> 36\u001b[0m Solution3 \u001b[38;5;241m=\u001b[39m \u001b[43modeint\u001b[49m\u001b[43m(\u001b[49m\u001b[43mfun3\u001b[49m\u001b[43m,\u001b[49m\u001b[43myyy\u001b[49m\u001b[43m,\u001b[49m\u001b[43mttt\u001b[49m\u001b[43m)\u001b[49m[:, \u001b[38;5;241m0\u001b[39m]\u001b[38;5;241m/\u001b[39m\u001b[38;5;241m2.13\u001b[39m\n\u001b[0;32m     37\u001b[0m \u001b[38;5;28mprint\u001b[39m(Solution3)\n",
      "File \u001b[1;32mF:\\Anaconda3\\lib\\site-packages\\scipy\\integrate\\odepack.py:241\u001b[0m, in \u001b[0;36modeint\u001b[1;34m(func, y0, t, args, Dfun, col_deriv, full_output, ml, mu, rtol, atol, tcrit, h0, hmax, hmin, ixpr, mxstep, mxhnil, mxordn, mxords, printmessg, tfirst)\u001b[0m\n\u001b[0;32m    239\u001b[0m t \u001b[38;5;241m=\u001b[39m copy(t)\n\u001b[0;32m    240\u001b[0m y0 \u001b[38;5;241m=\u001b[39m copy(y0)\n\u001b[1;32m--> 241\u001b[0m output \u001b[38;5;241m=\u001b[39m \u001b[43m_odepack\u001b[49m\u001b[38;5;241;43m.\u001b[39;49m\u001b[43modeint\u001b[49m\u001b[43m(\u001b[49m\u001b[43mfunc\u001b[49m\u001b[43m,\u001b[49m\u001b[43m \u001b[49m\u001b[43my0\u001b[49m\u001b[43m,\u001b[49m\u001b[43m \u001b[49m\u001b[43mt\u001b[49m\u001b[43m,\u001b[49m\u001b[43m \u001b[49m\u001b[43margs\u001b[49m\u001b[43m,\u001b[49m\u001b[43m \u001b[49m\u001b[43mDfun\u001b[49m\u001b[43m,\u001b[49m\u001b[43m \u001b[49m\u001b[43mcol_deriv\u001b[49m\u001b[43m,\u001b[49m\u001b[43m \u001b[49m\u001b[43mml\u001b[49m\u001b[43m,\u001b[49m\u001b[43m \u001b[49m\u001b[43mmu\u001b[49m\u001b[43m,\u001b[49m\n\u001b[0;32m    242\u001b[0m \u001b[43m                         \u001b[49m\u001b[43mfull_output\u001b[49m\u001b[43m,\u001b[49m\u001b[43m \u001b[49m\u001b[43mrtol\u001b[49m\u001b[43m,\u001b[49m\u001b[43m \u001b[49m\u001b[43matol\u001b[49m\u001b[43m,\u001b[49m\u001b[43m \u001b[49m\u001b[43mtcrit\u001b[49m\u001b[43m,\u001b[49m\u001b[43m \u001b[49m\u001b[43mh0\u001b[49m\u001b[43m,\u001b[49m\u001b[43m \u001b[49m\u001b[43mhmax\u001b[49m\u001b[43m,\u001b[49m\u001b[43m \u001b[49m\u001b[43mhmin\u001b[49m\u001b[43m,\u001b[49m\n\u001b[0;32m    243\u001b[0m \u001b[43m                         \u001b[49m\u001b[43mixpr\u001b[49m\u001b[43m,\u001b[49m\u001b[43m \u001b[49m\u001b[43mmxstep\u001b[49m\u001b[43m,\u001b[49m\u001b[43m \u001b[49m\u001b[43mmxhnil\u001b[49m\u001b[43m,\u001b[49m\u001b[43m \u001b[49m\u001b[43mmxordn\u001b[49m\u001b[43m,\u001b[49m\u001b[43m \u001b[49m\u001b[43mmxords\u001b[49m\u001b[43m,\u001b[49m\n\u001b[0;32m    244\u001b[0m \u001b[43m                         \u001b[49m\u001b[38;5;28;43mint\u001b[39;49m\u001b[43m(\u001b[49m\u001b[38;5;28;43mbool\u001b[39;49m\u001b[43m(\u001b[49m\u001b[43mtfirst\u001b[49m\u001b[43m)\u001b[49m\u001b[43m)\u001b[49m\u001b[43m)\u001b[49m\n\u001b[0;32m    245\u001b[0m \u001b[38;5;28;01mif\u001b[39;00m output[\u001b[38;5;241m-\u001b[39m\u001b[38;5;241m1\u001b[39m] \u001b[38;5;241m<\u001b[39m \u001b[38;5;241m0\u001b[39m:\n\u001b[0;32m    246\u001b[0m     warning_msg \u001b[38;5;241m=\u001b[39m _msgs[output[\u001b[38;5;241m-\u001b[39m\u001b[38;5;241m1\u001b[39m]] \u001b[38;5;241m+\u001b[39m \u001b[38;5;124m\"\u001b[39m\u001b[38;5;124m Run with full_output = 1 to get quantitative information.\u001b[39m\u001b[38;5;124m\"\u001b[39m\n",
      "Input \u001b[1;32mIn [202]\u001b[0m, in \u001b[0;36mfun3\u001b[1;34m(y, t)\u001b[0m\n\u001b[0;32m      1\u001b[0m \u001b[38;5;28;01mdef\u001b[39;00m \u001b[38;5;21mfun3\u001b[39m(y,t):\n\u001b[1;32m----> 2\u001b[0m     y1 \u001b[38;5;241m=\u001b[39m y[\u001b[38;5;241m0\u001b[39m], y2 \u001b[38;5;241m=\u001b[39m y[\u001b[38;5;241m1\u001b[39m], y3 \u001b[38;5;241m=\u001b[39m y[\u001b[38;5;241m2\u001b[39m], y4 \u001b[38;5;241m=\u001b[39m y[\u001b[38;5;241m3\u001b[39m], y5 \u001b[38;5;241m=\u001b[39m y[\u001b[38;5;241m4\u001b[39m], y6 \u001b[38;5;241m=\u001b[39m y[\u001b[38;5;241m5\u001b[39m], y7 \u001b[38;5;241m=\u001b[39m y[\u001b[38;5;241m6\u001b[39m]\n\u001b[0;32m      3\u001b[0m     k12\u001b[38;5;241m=\u001b[39m\u001b[38;5;241m60\u001b[39m\u001b[38;5;241m/\u001b[39m\u001b[38;5;241m615\u001b[39m\n\u001b[0;32m      4\u001b[0m     k21\u001b[38;5;241m=\u001b[39m\u001b[38;5;241m60\u001b[39m\u001b[38;5;241m/\u001b[39m\u001b[38;5;241m842\u001b[39m\n",
      "\u001b[1;31mTypeError\u001b[0m: cannot unpack non-iterable numpy.float64 object"
     ]
    }
   ],
   "source": [
    "def fun3(y,t):\n",
    "    y1 = y[0], y2 = y[1], y3 = y[2], y4 = y[3], y5 = y[4], y6 = y[5], y7 = y[6]\n",
    "    k12=60/615\n",
    "    k21=60/842\n",
    "    k23=9/842\n",
    "    k24=43/842\n",
    "    k32=52/9744\n",
    "    k34=162/9744\n",
    "    k43=205/26280\n",
    "    k45=0.2/26280\n",
    "    k51=0.2/90000000\n",
    "    k67=62/731\n",
    "    k71=62/1328  \n",
    "    N20=821\n",
    "    Xi=8.91#根据大气二氧化碳浓度公式求得\n",
    "    gamma=gamma2(t)\n",
    "    f=31.1\n",
    "    Delte=0.08\n",
    "    dydt = [ -k12*y1+k21*(N20+Xi*(y2-N20))+gamma-f+Delte+k51*y5+k71*y7, \n",
    "                        k12*y1-k21*(N20+Xi*(y2-N20))-k23*y2+k32*y3-k24*y2,\n",
    "                        k23*y2-k32*y3-k34*y3+k43*y4,\n",
    "                        k34*y3-k43*y4+k24*y2-k45*y4,\n",
    "                        k45*y4-k51*y5,\n",
    "                        f-k67*y6-2*Delte,\n",
    "                        k67*y6-k71*y7+Delte]\n",
    "    return dydt\n",
    "\n",
    "bata=0.38\n",
    "f0=62/2.13\n",
    "\n",
    "# 初始条件\n",
    "yyy = [615,842,9744,26280,90000000,731,1238]\n",
    "ttt = np.linspace(1750,2000,251)\n",
    "\n",
    "# 求解\n",
    "Solution3 = odeint(fun3,yyy,ttt)[:, 0]/2.13\n",
    "print(Solution3)"
   ]
  },
  {
   "cell_type": "code",
   "execution_count": 197,
   "id": "92511adc",
   "metadata": {},
   "outputs": [
    {
     "ename": "TypeError",
     "evalue": "cannot unpack non-iterable numpy.float64 object",
     "output_type": "error",
     "traceback": [
      "\u001b[1;31m---------------------------------------------------------------------------\u001b[0m",
      "\u001b[1;31mTypeError\u001b[0m                                 Traceback (most recent call last)",
      "Input \u001b[1;32mIn [197]\u001b[0m, in \u001b[0;36m<cell line: 31>\u001b[1;34m()\u001b[0m\n\u001b[0;32m     28\u001b[0m bata\u001b[38;5;241m=\u001b[39m\u001b[38;5;241m0.50\u001b[39m\n\u001b[0;32m     30\u001b[0m \u001b[38;5;66;03m# 求解\u001b[39;00m\n\u001b[1;32m---> 31\u001b[0m Solution4 \u001b[38;5;241m=\u001b[39m \u001b[43modeint\u001b[49m\u001b[43m(\u001b[49m\u001b[43mfun4\u001b[49m\u001b[43m,\u001b[49m\u001b[43myyy\u001b[49m\u001b[43m,\u001b[49m\u001b[43mttt\u001b[49m\u001b[43m)\u001b[49m[:, \u001b[38;5;241m0\u001b[39m]\u001b[38;5;241m/\u001b[39m\u001b[38;5;241m2.13\u001b[39m\n\u001b[0;32m     32\u001b[0m \u001b[38;5;28mprint\u001b[39m(Solution4)\n",
      "File \u001b[1;32mF:\\Anaconda3\\lib\\site-packages\\scipy\\integrate\\odepack.py:241\u001b[0m, in \u001b[0;36modeint\u001b[1;34m(func, y0, t, args, Dfun, col_deriv, full_output, ml, mu, rtol, atol, tcrit, h0, hmax, hmin, ixpr, mxstep, mxhnil, mxordn, mxords, printmessg, tfirst)\u001b[0m\n\u001b[0;32m    239\u001b[0m t \u001b[38;5;241m=\u001b[39m copy(t)\n\u001b[0;32m    240\u001b[0m y0 \u001b[38;5;241m=\u001b[39m copy(y0)\n\u001b[1;32m--> 241\u001b[0m output \u001b[38;5;241m=\u001b[39m \u001b[43m_odepack\u001b[49m\u001b[38;5;241;43m.\u001b[39;49m\u001b[43modeint\u001b[49m\u001b[43m(\u001b[49m\u001b[43mfunc\u001b[49m\u001b[43m,\u001b[49m\u001b[43m \u001b[49m\u001b[43my0\u001b[49m\u001b[43m,\u001b[49m\u001b[43m \u001b[49m\u001b[43mt\u001b[49m\u001b[43m,\u001b[49m\u001b[43m \u001b[49m\u001b[43margs\u001b[49m\u001b[43m,\u001b[49m\u001b[43m \u001b[49m\u001b[43mDfun\u001b[49m\u001b[43m,\u001b[49m\u001b[43m \u001b[49m\u001b[43mcol_deriv\u001b[49m\u001b[43m,\u001b[49m\u001b[43m \u001b[49m\u001b[43mml\u001b[49m\u001b[43m,\u001b[49m\u001b[43m \u001b[49m\u001b[43mmu\u001b[49m\u001b[43m,\u001b[49m\n\u001b[0;32m    242\u001b[0m \u001b[43m                         \u001b[49m\u001b[43mfull_output\u001b[49m\u001b[43m,\u001b[49m\u001b[43m \u001b[49m\u001b[43mrtol\u001b[49m\u001b[43m,\u001b[49m\u001b[43m \u001b[49m\u001b[43matol\u001b[49m\u001b[43m,\u001b[49m\u001b[43m \u001b[49m\u001b[43mtcrit\u001b[49m\u001b[43m,\u001b[49m\u001b[43m \u001b[49m\u001b[43mh0\u001b[49m\u001b[43m,\u001b[49m\u001b[43m \u001b[49m\u001b[43mhmax\u001b[49m\u001b[43m,\u001b[49m\u001b[43m \u001b[49m\u001b[43mhmin\u001b[49m\u001b[43m,\u001b[49m\n\u001b[0;32m    243\u001b[0m \u001b[43m                         \u001b[49m\u001b[43mixpr\u001b[49m\u001b[43m,\u001b[49m\u001b[43m \u001b[49m\u001b[43mmxstep\u001b[49m\u001b[43m,\u001b[49m\u001b[43m \u001b[49m\u001b[43mmxhnil\u001b[49m\u001b[43m,\u001b[49m\u001b[43m \u001b[49m\u001b[43mmxordn\u001b[49m\u001b[43m,\u001b[49m\u001b[43m \u001b[49m\u001b[43mmxords\u001b[49m\u001b[43m,\u001b[49m\n\u001b[0;32m    244\u001b[0m \u001b[43m                         \u001b[49m\u001b[38;5;28;43mint\u001b[39;49m\u001b[43m(\u001b[49m\u001b[38;5;28;43mbool\u001b[39;49m\u001b[43m(\u001b[49m\u001b[43mtfirst\u001b[49m\u001b[43m)\u001b[49m\u001b[43m)\u001b[49m\u001b[43m)\u001b[49m\n\u001b[0;32m    245\u001b[0m \u001b[38;5;28;01mif\u001b[39;00m output[\u001b[38;5;241m-\u001b[39m\u001b[38;5;241m1\u001b[39m] \u001b[38;5;241m<\u001b[39m \u001b[38;5;241m0\u001b[39m:\n\u001b[0;32m    246\u001b[0m     warning_msg \u001b[38;5;241m=\u001b[39m _msgs[output[\u001b[38;5;241m-\u001b[39m\u001b[38;5;241m1\u001b[39m]] \u001b[38;5;241m+\u001b[39m \u001b[38;5;124m\"\u001b[39m\u001b[38;5;124m Run with full_output = 1 to get quantitative information.\u001b[39m\u001b[38;5;124m\"\u001b[39m\n",
      "Input \u001b[1;32mIn [197]\u001b[0m, in \u001b[0;36mfun4\u001b[1;34m(y, t)\u001b[0m\n\u001b[0;32m      1\u001b[0m \u001b[38;5;28;01mdef\u001b[39;00m \u001b[38;5;21mfun4\u001b[39m(y,t):\n\u001b[1;32m----> 2\u001b[0m     y1 \u001b[38;5;241m=\u001b[39m y[\u001b[38;5;241m0\u001b[39m], y2 \u001b[38;5;241m=\u001b[39m y[\u001b[38;5;241m1\u001b[39m], y3 \u001b[38;5;241m=\u001b[39m y[\u001b[38;5;241m2\u001b[39m], y4 \u001b[38;5;241m=\u001b[39m y[\u001b[38;5;241m3\u001b[39m], y5 \u001b[38;5;241m=\u001b[39m y[\u001b[38;5;241m4\u001b[39m], y6 \u001b[38;5;241m=\u001b[39m y[\u001b[38;5;241m5\u001b[39m], y7 \u001b[38;5;241m=\u001b[39m y[\u001b[38;5;241m6\u001b[39m]\n\u001b[0;32m      3\u001b[0m     k12\u001b[38;5;241m=\u001b[39m\u001b[38;5;241m60\u001b[39m\u001b[38;5;241m/\u001b[39m\u001b[38;5;241m615\u001b[39m\n\u001b[0;32m      4\u001b[0m     k21\u001b[38;5;241m=\u001b[39m\u001b[38;5;241m60\u001b[39m\u001b[38;5;241m/\u001b[39m\u001b[38;5;241m842\u001b[39m\n",
      "\u001b[1;31mTypeError\u001b[0m: cannot unpack non-iterable numpy.float64 object"
     ]
    }
   ],
   "source": [
    "def fun4(y,t):\n",
    "    y1 = y[0], y2 = y[1], y3 = y[2], y4 = y[3], y5 = y[4], y6 = y[5], y7 = y[6]\n",
    "    k12=60/615\n",
    "    k21=60/842\n",
    "    k23=9/842\n",
    "    k24=43/842\n",
    "    k32=52/9744\n",
    "    k34=162/9744\n",
    "    k43=205/26280\n",
    "    k45=0.2/26280\n",
    "    k51=0.2/90000000\n",
    "    k67=62/731\n",
    "    k71=62/1328  \n",
    "    N20=821\n",
    "    Xi=8.91#根据大气二氧化碳浓度公式求得\n",
    "    gamma=gamma2(t)\n",
    "    f=31.7\n",
    "    Delte=0.08\n",
    "    dydt = [ -k12*y1+k21*(N20+Xi*(y2-N20))+gamma-f+Delte+k51*y5+k71*y7, \n",
    "                        k12*y1-k21*(N20+Xi*(y2-N20))-k23*y2+k32*y3-k24*y2,\n",
    "                        k23*y2-k32*y3-k34*y3+k43*y4,\n",
    "                        k34*y3-k43*y4+k24*y2-k45*y4,\n",
    "                        k45*y4-k51*y5,\n",
    "                        f-k67*y6-2*Delte,\n",
    "                        k67*y6-k71*y7+Delte]\n",
    "    return dydt\n",
    "\n",
    "bata=0.50\n",
    "\n",
    "# 求解\n",
    "Solution4 = odeint(fun4,yyy,ttt)[:, 0]/2.13\n",
    "print(Solution4)"
   ]
  },
  {
   "cell_type": "markdown",
   "id": "b724614e",
   "metadata": {},
   "source": [
    "看不懂报错，下载燃料燃烧速率的csv文件出错，无法得到gamma的函数"
   ]
  },
  {
   "cell_type": "code",
   "execution_count": null,
   "id": "fe826140",
   "metadata": {},
   "outputs": [],
   "source": []
  }
 ],
 "metadata": {
  "kernelspec": {
   "display_name": "Python 3 (ipykernel)",
   "language": "python",
   "name": "python3"
  },
  "language_info": {
   "codemirror_mode": {
    "name": "ipython",
    "version": 3
   },
   "file_extension": ".py",
   "mimetype": "text/x-python",
   "name": "python",
   "nbconvert_exporter": "python",
   "pygments_lexer": "ipython3",
   "version": "3.9.12"
  }
 },
 "nbformat": 4,
 "nbformat_minor": 5
}
