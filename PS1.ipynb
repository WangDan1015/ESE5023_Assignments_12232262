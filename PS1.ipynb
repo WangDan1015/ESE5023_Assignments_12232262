{
 "cells": [
  {
   "cell_type": "code",
   "execution_count": 1,
   "id": "e34dce61",
   "metadata": {},
   "outputs": [
    {
     "name": "stdout",
     "output_type": "stream",
     "text": [
      "Please input a: 10\n",
      "Please input b: 5\n",
      "Please input c: 1\n",
      "5.0\n"
     ]
    }
   ],
   "source": [
    "# Exercise 1\n",
    "def Print_values(a,b,c):\n",
    "    list1=[]\n",
    "    if a>b:\n",
    "        if b>c:\n",
    "            list1=[a,b,c]\n",
    "        elif a>c:\n",
    "            list1=[a,c,b]\n",
    "        else:\n",
    "            list1=[c,a,b]\n",
    "    elif b>c:\n",
    "        if a>c:\n",
    "            list1=[a,c,b]\n",
    "        else:\n",
    "            list1=[c,a,b]\n",
    "    else:\n",
    "        list1=[c,b,a]\n",
    "    return list1\n",
    "a=float(input(\"Please input a: \"))\n",
    "b=float(input(\"Please input b: \"))\n",
    "c=float(input(\"Please input c: \"))\n",
    "list1=Print_values(a,b,c)\n",
    "x=list1[0]\n",
    "y=list1[1]\n",
    "z=list1[2]\n",
    "print(x+y-10*z)"
   ]
  },
  {
   "cell_type": "code",
   "execution_count": 2,
   "id": "e2ce7d83",
   "metadata": {},
   "outputs": [
    {
     "name": "stdout",
     "output_type": "stream",
     "text": [
      "Please input a list with N positive intergers: 1,2,3,4,5\n",
      "[1, 5, 7, 13, 15]\n"
     ]
    }
   ],
   "source": [
    "# Exercise 2\n",
    "import math\n",
    "list=input(\"Please input a list with N positive intergers: \")\n",
    "list=list.split(\",\")\n",
    "list=[int(list[i]) for i in range(len(list))]\n",
    "N=len(list)\n",
    "list2=[]\n",
    "\n",
    "def F(x):\n",
    "    if x==1:\n",
    "        Fx=1\n",
    "    else:\n",
    "        Fx=F(math.ceil(x/3))+2*x\n",
    "    return Fx\n",
    "\n",
    "for i in range(0,N):\n",
    "    x=list[i]\n",
    "    list2.append(F(x))\n",
    "print(list2)"
   ]
  },
  {
   "cell_type": "code",
   "execution_count": 5,
   "id": "6c7545d4",
   "metadata": {},
   "outputs": [
    {
     "name": "stdout",
     "output_type": "stream",
     "text": [
      "[1, 1, 2, 3, 5, 7, 10, 13, 18, 23, 30, 36, 45, 53, 63, 72, 83, 92, 103, 111, 121, 127, 134, 137, 141, 141, 141, 137, 134, 127, 121, 111, 103, 92, 83, 72, 63, 53, 45, 36, 30, 23, 18, 13, 10, 7, 5, 3, 2, 1, 1]\n",
      "the maximum is  141\n",
      "x which yield the maximum is  [24, 25, 26]\n"
     ]
    }
   ],
   "source": [
    "# Exercise 3.1\n",
    "def Find_number_of_ways(x):\n",
    "    sum_number=0\n",
    "    for i in range(0,11):\n",
    "        for j in range(0,11):\n",
    "            for k in range(0,11):\n",
    "                for l in range(0,11):\n",
    "                    for m in range(0,11):\n",
    "                        for n in range(0,11):\n",
    "                            if(1*i+2*j+3*k+4*l+5*m+6*n )==x and (i+j+k+l+m+n)==10:\n",
    "                                sum_number=sum_number+1\n",
    "    return sum_number     \n",
    "# x=int(input(\"Please input x: \"))\n",
    "# print(Find_number_of_ways(x))\n",
    "\n",
    "# Exercise 3.2\n",
    "Number_of_ways=[]\n",
    "index=[]\n",
    "for x in range(10,61):\n",
    "    Number_of_ways.append(Find_number_of_ways(x))\n",
    "\n",
    "maximum=max(Number_of_ways)\n",
    "for i in range(0,50):\n",
    "    if(Number_of_ways[i]==maximum):\n",
    "        index.append(i)\n",
    "\n",
    "print(Number_of_ways)\n",
    "print(\"the maximum is \", maximum)\n",
    "print(\"x which yield the maximum is \",index )"
   ]
  },
  {
   "cell_type": "code",
   "execution_count": 57,
   "id": "af012f47",
   "metadata": {},
   "outputs": [
    {
     "name": "stdout",
     "output_type": "stream",
     "text": [
      "[3.0, 19.5, 32.666666666666664, 86.25, 210.79999999999998, 230.99999999999997, 943.4285714285714, 1498.125, 2214.3333333333335, 5524.2]\n"
     ]
    },
    {
     "data": {
      "text/plain": [
       "[<matplotlib.lines.Line2D at 0x1fc94f57430>]"
      ]
     },
     "execution_count": 57,
     "metadata": {},
     "output_type": "execute_result"
    },
    {
     "data": {
      "image/png": "[encoded data removed]",
      "text/plain": [
       "<Figure size 432x288 with 1 Axes>"
      ]
     },
     "metadata": {
      "needs_background": "light"
     },
     "output_type": "display_data"
    }
   ],
   "source": [
    "# Exercise 4.1 \n",
    "import numpy as np\n",
    "import matplotlib.pyplot as plt\n",
    "def Random_interger(N):\n",
    "    M=np.random.randint(1,11,N)\n",
    "    return M\n",
    "# N=int(input(\"Please input N: \"))\n",
    "# print(\"Array of N elements is \",M)\n",
    "\n",
    "# Exercise 4.2\n",
    "def subsets(N):\n",
    "    result=[[]]\n",
    "    M=Random_interger(N)\n",
    "#     print(M)\n",
    "    for i in range(N):\n",
    "        for j in range(len(result)):\n",
    "            result.append(result[j]+[M[i]])     \n",
    "    return result\n",
    "\n",
    "# print(subsets(N)) ##I got inspired by reading \"https://blog.csdn.net/qq_34170700/article/details/107630653\"\n",
    "def Sum_average(N):\n",
    "    average=[]\n",
    "    sub=subsets(N)\n",
    "#     print(sub)\n",
    "    for i in range(len(sub)):\n",
    "        if(len(sub[i])!=0):\n",
    "            average.append(sum(sub[i])/len(sub[i]))\n",
    "    return sum(average)\n",
    "# print(Sum_average(N))\n",
    "\n",
    "# Exercise 4.3\n",
    "\n",
    "Total_sum_averages=[]\n",
    "for N in range(1,11):\n",
    "    Total_sum_averages.append(Sum_average(N))\n",
    "print(Total_sum_averages)\n",
    "plt.plot(Total_sum_averages)"
   ]
  },
  {
   "cell_type": "code",
   "execution_count": 50,
   "id": "42e18242",
   "metadata": {},
   "outputs": [
    {
     "name": "stdout",
     "output_type": "stream",
     "text": [
      "Please input N: 10\n",
      "Please input M: 8\n",
      "1.5811818181818182\n"
     ]
    }
   ],
   "source": [
    "# Exercise 5.1\n",
    "from numpy import random\n",
    "N=int(input(\"Please input N: \"))\n",
    "M=int(input(\"Please input M: \"))\n",
    "def Matrix(N,M):\n",
    "    array=[]\n",
    "    for i in range(N):\n",
    "        list1=[random.randint(0,2)for j in range(M)]\n",
    "        array.append(list1)\n",
    "        array[0][0]=1;array[-1][-1]=1\n",
    "    return array\n",
    "\n",
    "# Exercise 5.2 ##I got inspired by reading \"https://www.nhooo.com/note/qa55bq.html\"\n",
    "def Count_path(array):\n",
    "    dp = [[0] * len(array[0]) for _ in range(len(array))]\n",
    "    dp[0][0] = 1\n",
    "    for i in range(1, len(array)):\n",
    "        if array[i][0] == 0:\n",
    "            break\n",
    "        else:\n",
    "            dp[i][0] = 1\n",
    "    for j in range(1, len(array[0])):\n",
    "        if array[0][j] == 0:\n",
    "            break\n",
    "        else:\n",
    "            dp[0][j] = 1\n",
    "    for i in range(1, len(array)):\n",
    "         for j in range(1, len(array[0])):\n",
    "            if array[i][j] == 0:\n",
    "                dp[i][j] = 0\n",
    "            else:\n",
    "                dp[i][j] = dp[i - 1][j] + dp[i][j - 1]\n",
    "#     print(dp)\n",
    "    return dp[-1][-1]\n",
    "# print(Count_path(array))\n",
    "\n",
    "# Exercise 5.3\n",
    "number=[]\n",
    "for i in range(1000):\n",
    "    array=Matrix(N,M)\n",
    "    number.append(Count_path(array))\n",
    "print(sum(number)/len(number))"
   ]
  }
 ],
 "metadata": {
  "kernelspec": {
   "display_name": "Python 3 (ipykernel)",
   "language": "python",
   "name": "python3"
  },
  "language_info": {
   "codemirror_mode": {
    "name": "ipython",
    "version": 3
   },
   "file_extension": ".py",
   "mimetype": "text/x-python",
   "name": "python",
   "nbconvert_exporter": "python",
   "pygments_lexer": "ipython3",
   "version": "3.9.12"
  }
 },
 "nbformat": 4,
 "nbformat_minor": 5
}
